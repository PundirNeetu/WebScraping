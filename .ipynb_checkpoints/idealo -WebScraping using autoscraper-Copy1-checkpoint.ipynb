{
 "cells": [
  {
   "cell_type": "code",
   "execution_count": 99,
   "metadata": {},
   "outputs": [
    {
     "name": "stdout",
     "output_type": "stream",
     "text": [
      "Requirement already satisfied: autoscraper in c:\\users\\neetu\\anaconda3\\lib\\site-packages (1.1.12)\n",
      "Requirement already satisfied: bs4 in c:\\users\\neetu\\anaconda3\\lib\\site-packages (from autoscraper) (0.0.1)\n",
      "Requirement already satisfied: requests in c:\\users\\neetu\\anaconda3\\lib\\site-packages (from autoscraper) (2.22.0)\n",
      "Requirement already satisfied: lxml in c:\\users\\neetu\\anaconda3\\lib\\site-packages (from autoscraper) (4.5.0)\n",
      "Requirement already satisfied: beautifulsoup4 in c:\\users\\neetu\\anaconda3\\lib\\site-packages (from bs4->autoscraper) (4.8.2)\n",
      "Requirement already satisfied: certifi>=2017.4.17 in c:\\users\\neetu\\anaconda3\\lib\\site-packages (from requests->autoscraper) (2019.11.28)\n",
      "Requirement already satisfied: chardet<3.1.0,>=3.0.2 in c:\\users\\neetu\\anaconda3\\lib\\site-packages (from requests->autoscraper) (3.0.4)\n",
      "Requirement already satisfied: idna<2.9,>=2.5 in c:\\users\\neetu\\anaconda3\\lib\\site-packages (from requests->autoscraper) (2.8)\n",
      "Requirement already satisfied: urllib3!=1.25.0,!=1.25.1,<1.26,>=1.21.1 in c:\\users\\neetu\\anaconda3\\lib\\site-packages (from requests->autoscraper) (1.25.8)\n",
      "Requirement already satisfied: soupsieve>=1.2 in c:\\users\\neetu\\anaconda3\\lib\\site-packages (from beautifulsoup4->bs4->autoscraper) (1.9.5)\n"
     ]
    }
   ],
   "source": [
    "#!pip install autoscraper"
   ]
  },
  {
   "cell_type": "code",
   "execution_count": 100,
   "metadata": {},
   "outputs": [],
   "source": [
    "from autoscraper import AutoScraper"
   ]
  },
  {
   "cell_type": "code",
   "execution_count": 101,
   "metadata": {},
   "outputs": [],
   "source": [
    "amazon_url='https://www.amazon.de/s?k=buchst%C3%A4nder'\n",
    "wanted_list=['18,69 €','Amazon Basics Economy Bücherstützen für das Büro, Schwarz, 20 cm, 2 Stück','753']"
   ]
  },
  {
   "cell_type": "code",
   "execution_count": 102,
   "metadata": {},
   "outputs": [
    {
     "name": "stdout",
     "output_type": "stream",
     "text": [
      "['18,69 €', '20,32 €', '14,99 €', '23,99 €', '22,88 €', '22,09 €', '25,99 €', '9,89 €', '10,59 €', '10,97 €', '17,99 €', '21,99 €', '22,99 €', '24,99 €', 'Amazon Basics Economy Bücherstützen für das Büro, Schwarz, 20 cm, 2 Stück', 'Readaeer Leseständer Bookrest Kochbuchhalter für Küche und Büro aus Metall Faltbar [MEHRWEG]', 'Einstellbar faltbar Leseständer Buchhalter Kochbuchhalter Cookbook stand Book rest Bücherständer Book Stand für Kochen und Aufschreibungkönnen überall aufgestellt', 'MEETYOO Leseständer Bookrest Buchhalter Kochbuchhalter für Küche Bambus Faltbar PC Buch/Tablet iPad Lehrbücher steht/Musicbook/Multipurpose Portable Bookrest Einstellbarer Winkel/book stand', 'BINSENI Buchständer, Rezeptbuchständer, Buchhalter zum Lesen, Küche, mit 2 Metall-Seitenhalter, hergestellt aus umweltfreundlichem Bambus, perfekt für Kochbücher, Rezepte, iPad, Tablets (A)', 'CS COSDDI Leseständer Kochbuchhalter Bücherständer Book Stand für Lesen,Küche und Büro (Schwarz)', 'Acksonse Laptopständer, Tragbarer Verstellbarer Laptop Halter, Leichtem Rutschfester Ständer, Faltbarer Riser für 10-17 Zoll Laptop, Pad (Schwarz)', 'AICase Handy/Tablet Ständer Verstellbare,Universal Halterung für 2018 iPad Pro 10.5/9.7/12.9, iPad Air 2 3 4, iPad Mini 2 3 4,Samsung,Huawei, iPhone, andere Smartphone und Tab (4\"-12.9\") - Silber', 'Buchständer Leseständer Kinder, Bücherständer metall verstellbar, Buchhalter Zusammenklappbar, Kochbuchhalter Küche, Book Rest Höhenverstellbar und Winkel Einstellbar, Book Stand Tragbare, Schwarz', 'VFZILH Buchhalter Multifunktional Buch Halterung mit Büroklammern Kochbuchhalter für Küche und Büro-Buchständer Faltbar Einstellbare für PC Buch Tablet iPad Lehrbücher Steht Musicbooks', '753', '1.420', '61', '286', '253', '387', '54', '1.065', '24']\n"
     ]
    }
   ],
   "source": [
    "scraper= AutoScraper()\n",
    "result= scraper.build(amazon_url,wanted_list)\n",
    "print(result)"
   ]
  },
  {
   "cell_type": "code",
   "execution_count": 103,
   "metadata": {},
   "outputs": [
    {
     "data": {
      "text/plain": [
       "{'rule_7yjo': ['14,99 €',\n",
       "  '23,99 €',\n",
       "  '22,88 €',\n",
       "  '22,09 €',\n",
       "  '25,99 €',\n",
       "  '14,99 €',\n",
       "  '10,97 €',\n",
       "  '14,99 €',\n",
       "  '21,99 €',\n",
       "  '22,99 €',\n",
       "  '15,99 €',\n",
       "  '15,99 €'],\n",
       " 'rule_h9f8': ['Leseständer/Buchständer/Buchstütze/Book Stand/aus Hartplastik für Küche und Büro als Buchhalter und Vorlagenhalter (Schwarz)',\n",
       "  'Einstellbar faltbar Leseständer Buchhalter Kochbuchhalter Cookbook stand Book rest Bücherständer Book Stand für Kochen und Aufschreibungkönnen überall aufgestellt',\n",
       "  'MEETYOO Leseständer Bookrest Buchhalter Kochbuchhalter für Küche Bambus Faltbar PC Buch/Tablet iPad Lehrbücher steht/Musicbook/Multipurpose Portable Bookrest Einstellbarer Winkel/book stand',\n",
       "  'BINSENI Buchständer, Rezeptbuchständer, Buchhalter zum Lesen, Küche, mit 2 Metall-Seitenhalter, hergestellt aus umweltfreundlichem Bambus, perfekt für Kochbücher, Rezepte, iPad, Tablets (A)',\n",
       "  'Readaeer Leseständer Bookrest Kochbuchhalter für Küche und Büro aus Metall Faltbar [MEHRWEG]',\n",
       "  'Acksonse Laptopständer, Tragbarer Verstellbarer Laptop Halter, Leichtem Rutschfester Ständer, Faltbarer Riser für 10-17 Zoll Laptop, Pad (Schwarz)',\n",
       "  'MSDADA Buchstützen Verstellbar Erweiterbar Metall Kinder Buchständer Zeitschriftenordner rutschfeste Bücherhalter für Küche Büro Schule Bibliothek(Grau)',\n",
       "  'Buchständer Leseständer Kinder, Bücherständer metall verstellbar, Buchhalter Zusammenklappbar, Kochbuchhalter Küche, Book Rest Höhenverstellbar und Winkel Einstellbar, Book Stand Tragbare, Schwarz',\n",
       "  'SRIWATANA Buchstützen Metall Schwarz Buchhalter rutschfest Kratzfest Organisation von Büchern Zeitschriften CDs usw.',\n",
       "  'MSDADA Buchstützen Verstellbar Erweiterbar Metall Kinder Buchständer Zeitschriftenordner rutschfeste Bücherhalter Mit Abnehmbarem Stifthalter für Küche Büro Schule Bibliothek(Blau)'],\n",
       " 'rule_3blb': ['139',\n",
       "  '61',\n",
       "  '286',\n",
       "  '253',\n",
       "  '1.420',\n",
       "  '54',\n",
       "  'Nur noch 18 auf Lager',\n",
       "  '54',\n",
       "  '243',\n",
       "  'Nur noch 20 auf Lager']}"
      ]
     },
     "execution_count": 103,
     "metadata": {},
     "output_type": "execute_result"
    }
   ],
   "source": [
    "# group this information\n",
    "scraper.get_result_similar(amazon_url,grouped=True)"
   ]
  },
  {
   "cell_type": "code",
   "execution_count": 104,
   "metadata": {},
   "outputs": [],
   "source": [
    "scraper.set_rule_aliases({'rule_h9f8':'Title', 'rule_7yjo':'Price'})\n",
    "scraper.keep_rules(['rule_h9f8','rule_7yjo'])\n",
    "scraper.save('amazon-buch-search')\n"
   ]
  },
  {
   "cell_type": "code",
   "execution_count": 105,
   "metadata": {},
   "outputs": [],
   "source": [
    "result_regal=scraper.get_result_similar('https://www.amazon.de/s?__mk_de_DE=%C3%85M%C3%85%C5%BD%C3%95%C3%91&i=aps&k=buchregal',group_by_alias=True)\n",
    "#result_regal['Title']"
   ]
  },
  {
   "cell_type": "code",
   "execution_count": 106,
   "metadata": {},
   "outputs": [
    {
     "data": {
      "text/plain": [
       "['Vicco Bücherregal Raumteiler Standregal Fico weiß 6 Etagen Wandregal Hochregal',\n",
       " 'Vicco Treppenregal ASYM Raumteiler Bücherregal Standregal Aktenregal Hochregal Aufbewahrung Regal (Sonoma)',\n",
       " 'UNITURE® - [2er Set] Wandregal schwarz modernes & Zeitloses Design - Bücherregal mit einfacher Montage - Wandregal 2X 42cm - Regal für Büro & Wohnzimmer',\n",
       " 'Vicco Dachschrägenregal Bücherregal Wandregal Regal Standregal Dachschräge (Sonoma Eiche)',\n",
       " 'VASAGLE Bücherregal mit 4 Ebenen, Aufbewahrungsregal, Stahlgestell, Höhe 120 cm, für Wohnzimmer, Büro, Arbeitszimmer und Flur, Industrie-Design, vintagebraun-schwarz LLS60BX',\n",
       " 'COSTWAY Bücherregal Holz, Standregal mit 6 Ebenen, Aktenregal für Pflanzen & Bücher, Wandregal inkl. Befestigungsmaterial, Aufbewahrungsregal S-Form, Büroregal Farbwahl (braun)',\n",
       " 'Tribesigns Computertisch mit Ablagefächern, Arbeitsplatz, Studierschreibtisch mit Stall und Bücherregal, Monitorerhöhung',\n",
       " 'Alphamoebel 4197 Flamingo Bücherregal Standregal Regal Aufbewahrungsregal, Holz, Walnuss, für Wohnzimmer Schlafzimmer Büro, einfacher Aufbau, 8 Regalfächer, 90 x 144 x 25 cm',\n",
       " 'Alphamoebel 4890 Costa Bücherregal Aufbewahrungsregal Regal Wandregal,Metallrahmen, Holz, Eiche Optik, 5 Fächer, 45 x 180 x 45 cm',\n",
       " 'Buchstützen Metall Einstellbare Buchstützen Schreibtisch Organizer Erweiterbar Buchstützen Desktop Aufbewahrungsbox Magazin Rack Aktenhalter Aufgeräumt Buchregal Expanding Datei Halter (Weiß)',\n",
       " 'RELAX4LIFE Bücherregal Holz, Standregal mit 6 Ebenen, Büroregal für Bücher S-förmig, Ausstellungsregal für Wohnzimmer & Studierzimmer & Büro, Wandregal bis zu 90 kg belastbar, Aktenregal (Braun)']"
      ]
     },
     "execution_count": 106,
     "metadata": {},
     "output_type": "execute_result"
    }
   ],
   "source": [
    "result_regal['Title']"
   ]
  },
  {
   "cell_type": "code",
   "execution_count": 107,
   "metadata": {},
   "outputs": [
    {
     "data": {
      "text/plain": [
       "['79,90 €',\n",
       " '84,90 €',\n",
       " '44,99 €',\n",
       " '64,90 €',\n",
       " '45,95 €',\n",
       " '79,99 €',\n",
       " '109,89 €',\n",
       " '209,90 €',\n",
       " '169,90 €',\n",
       " '17,99 €',\n",
       " '76,99 €']"
      ]
     },
     "execution_count": 107,
     "metadata": {},
     "output_type": "execute_result"
    }
   ],
   "source": [
    "result_regal['Price']"
   ]
  }
 ],
 "metadata": {
  "kernelspec": {
   "display_name": "Python 3",
   "language": "python",
   "name": "python3"
  },
  "language_info": {
   "codemirror_mode": {
    "name": "ipython",
    "version": 3
   },
   "file_extension": ".py",
   "mimetype": "text/x-python",
   "name": "python",
   "nbconvert_exporter": "python",
   "pygments_lexer": "ipython3",
   "version": "3.7.6"
  }
 },
 "nbformat": 4,
 "nbformat_minor": 4
}
